{
 "cells": [
  {
   "cell_type": "code",
   "execution_count": null,
   "id": "ef022aa4",
   "metadata": {},
   "outputs": [],
   "source": [
    "# RDKIt libraries\n",
    "import pandas as pd\n",
    "from rdkit import Chem\n",
    "from rdkit.Chem import AllChem\n",
    "from rdkit.Chem.Fingerprints import FingerprintMols\n",
    "from rdkit.Chem.AtomPairs import Pairs\n",
    "from rdkit import DataStructs"
   ]
  },
  {
   "cell_type": "code",
   "execution_count": null,
   "id": "f551eef0",
   "metadata": {},
   "outputs": [],
   "source": [
    "# Calculate similarity between training and validation datasets\n",
    "def calc_mol_sim(train_mols, ex_mols):\n",
    "    ress = []\n",
    "    for i  in range(0,len(train_mols)):\n",
    "        train_smi = Chem.MolFromSmiles(train_mols.iloc[i]['canonical_smiles'])\n",
    "        train_smi.SetProp(\"_Name\", train_mols.iloc[i]['molecule_chembl_id'])\n",
    "        for n in range (0, len(train_mols)):\n",
    "            ex_smi = Chem.MolFromSmiles(ex_mols.iloc[n]['canonical_smiles'])\n",
    "            ex_smi.SetProp(\"_Name\", ex_mols.iloc[n]['molecule_chembl_id'])\n",
    "            fitMolTITLE = ex_smi.GetProp(\"_Name\")\n",
    "            refMolTITLE = train_smi.GetProp(\"_Name\")\n",
    "            # Atom Pairs\n",
    "            try:\n",
    "                refATMPfp = Pairs.GetAtomPairFingerprintAsBitVect(train_smi)\n",
    "                fitATMPfp = Pairs.GetAtomPairFingerprintAsBitVect(ex_smi)\n",
    "                atmpFING_score = float(round(DataStructs.DiceSimilarity(refATMPfp,\n",
    "                                                                fitATMPfp), 3))\n",
    "            except:\n",
    "                atmpFING_score = 0.000\n",
    "            ress.append([refMolTITLE, fitMolTITLE, atmpFING_score])\n",
    "    df_ress = pd.DataFrame(ress, columns=[\"Ex_mol\", \"Train_mol\",'APfp_score'])\n",
    "    df_stats = df_ress.groupby(by='Train_mol').mean().join(\n",
    "                        df_ress.groupby(by='Train_mol').std(),\n",
    "                                lsuffix='_mean', rsuffix='_std').join(\n",
    "                        df_ress.groupby(by='Train_mol').max(),rsuffix='_max').join(\n",
    "                        df_ress.groupby(by='Train_mol').min(),\n",
    "                                lsuffix='_max', rsuffix='_min')\n",
    "#    df_prob_label_stats =  df_prob_label.set_index('Molecule ChEMBL ID').join(df_stats)\n",
    "#    df_prob_label_stats.to_csv('csv_res-test-train_analyze-SIMILARITY-prob-binary_' + str(num) + '-' + isoform_df.name.replace('/', '-') + '_PCC_095.csv')\n",
    "#    df_stats.to_csv('csv_res-test-train_analyze-SIMILARITY-prob-binary_' + str(num) + '-' + isoform_df.name.replace('/', '-') + '_PCC_095.csv')\n",
    "    return df_stats"
   ]
  },
  {
   "cell_type": "code",
   "execution_count": null,
   "id": "5934d17c",
   "metadata": {},
   "outputs": [],
   "source": [
    "# Calculate similarity \n",
    "train_mols = df_morgan2.loc[X_train.index][['canonical_smiles','molecule_chembl_id']]\n",
    "ex_mols = dfchem.loc[Xex.index][['canonical_smiles','molecule_chembl_id']]\n",
    "df_stats = calc_mol_sim(ex_mols, train_mols)\n",
    "df_stats_ex = calc_mol_sim(ex_mols, ex_mols)\n",
    "df_stats_tt = calc_mol_sim(train_mols, train_mols)\n",
    "df_stats.to_csv('csv_res-train-ex_analyze-SIMILARITY-prob-binary_'   + 'PPARd_ex'+'_PCC_095.csv')\n",
    "df_stats_ex.to_csv('csv_res-ex-ex_analyze-SIMILARITY-prob-binary_'  + 'PPARd_ex' +'_PCC_095.csv')\n",
    "df_stats_tt.to_csv('csv_res-train-train_analyze-SIMILARITY-prob-binary_'  + 'PPARd_ex' +'_PCC_095.csv')"
   ]
  }
 ],
 "metadata": {
  "kernelspec": {
   "display_name": "Python 3 (ipykernel)",
   "language": "python",
   "name": "python3"
  },
  "language_info": {
   "codemirror_mode": {
    "name": "ipython",
    "version": 3
   },
   "file_extension": ".py",
   "mimetype": "text/x-python",
   "name": "python",
   "nbconvert_exporter": "python",
   "pygments_lexer": "ipython3",
   "version": "3.9.7"
  }
 },
 "nbformat": 4,
 "nbformat_minor": 5
}
